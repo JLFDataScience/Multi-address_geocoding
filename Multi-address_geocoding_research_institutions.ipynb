{
 "cells": [
  {
   "cell_type": "code",
   "execution_count": 4,
   "metadata": {},
   "outputs": [],
   "source": [
    "import pandas as pd\n",
    "import numpy as np\n",
    "from geopy.geocoders import Nominatim"
   ]
  },
  {
   "cell_type": "code",
   "execution_count": 6,
   "metadata": {},
   "outputs": [
    {
     "data": {
      "text/html": [
       "<div>\n",
       "<style scoped>\n",
       "    .dataframe tbody tr th:only-of-type {\n",
       "        vertical-align: middle;\n",
       "    }\n",
       "\n",
       "    .dataframe tbody tr th {\n",
       "        vertical-align: top;\n",
       "    }\n",
       "\n",
       "    .dataframe thead th {\n",
       "        text-align: right;\n",
       "    }\n",
       "</style>\n",
       "<table border=\"1\" class=\"dataframe\">\n",
       "  <thead>\n",
       "    <tr style=\"text-align: right;\">\n",
       "      <th></th>\n",
       "      <th>Institutions</th>\n",
       "      <th>records</th>\n",
       "      <th>%_of_14.717</th>\n",
       "    </tr>\n",
       "  </thead>\n",
       "  <tbody>\n",
       "    <tr>\n",
       "      <th>0</th>\n",
       "      <td>UNIVERSITY OF LONDON</td>\n",
       "      <td>160</td>\n",
       "      <td>1.087</td>\n",
       "    </tr>\n",
       "    <tr>\n",
       "      <th>1</th>\n",
       "      <td>HARVARD UNIVERSITY</td>\n",
       "      <td>119</td>\n",
       "      <td>0.809</td>\n",
       "    </tr>\n",
       "    <tr>\n",
       "      <th>2</th>\n",
       "      <td>UNIVERSITY OF CALIFORNIA SYSTEM</td>\n",
       "      <td>102</td>\n",
       "      <td>0.693</td>\n",
       "    </tr>\n",
       "    <tr>\n",
       "      <th>3</th>\n",
       "      <td>HUAZHONG UNIVERSITY OF SCIENCE TECHNOLOGY</td>\n",
       "      <td>90</td>\n",
       "      <td>0.612</td>\n",
       "    </tr>\n",
       "    <tr>\n",
       "      <th>4</th>\n",
       "      <td>HARVARD MEDICAL SCHOOL</td>\n",
       "      <td>66</td>\n",
       "      <td>0.448</td>\n",
       "    </tr>\n",
       "    <tr>\n",
       "      <th>...</th>\n",
       "      <td>...</td>\n",
       "      <td>...</td>\n",
       "      <td>...</td>\n",
       "    </tr>\n",
       "    <tr>\n",
       "      <th>6312</th>\n",
       "      <td>ZUCKER SCH MED HOFSTRA NORTHWELL HLTH</td>\n",
       "      <td>1</td>\n",
       "      <td>0.007</td>\n",
       "    </tr>\n",
       "    <tr>\n",
       "      <th>6313</th>\n",
       "      <td>ZUNYI MED COLL AFFILIATED HOSP</td>\n",
       "      <td>1</td>\n",
       "      <td>0.007</td>\n",
       "    </tr>\n",
       "    <tr>\n",
       "      <th>6314</th>\n",
       "      <td>ZURICH UNIV HOSP</td>\n",
       "      <td>1</td>\n",
       "      <td>0.007</td>\n",
       "    </tr>\n",
       "    <tr>\n",
       "      <th>6315</th>\n",
       "      <td>ZUYDERLAND MED CTR</td>\n",
       "      <td>1</td>\n",
       "      <td>0.007</td>\n",
       "    </tr>\n",
       "    <tr>\n",
       "      <th>6316</th>\n",
       "      <td>ZYDUS HOSP</td>\n",
       "      <td>1</td>\n",
       "      <td>0.007</td>\n",
       "    </tr>\n",
       "  </tbody>\n",
       "</table>\n",
       "<p>6317 rows × 3 columns</p>\n",
       "</div>"
      ],
      "text/plain": [
       "                                   Institutions  records  %_of_14.717\n",
       "0                          UNIVERSITY OF LONDON      160        1.087\n",
       "1                            HARVARD UNIVERSITY      119        0.809\n",
       "2               UNIVERSITY OF CALIFORNIA SYSTEM      102        0.693\n",
       "3     HUAZHONG UNIVERSITY OF SCIENCE TECHNOLOGY       90        0.612\n",
       "4                        HARVARD MEDICAL SCHOOL       66        0.448\n",
       "...                                         ...      ...          ...\n",
       "6312      ZUCKER SCH MED HOFSTRA NORTHWELL HLTH        1        0.007\n",
       "6313             ZUNYI MED COLL AFFILIATED HOSP        1        0.007\n",
       "6314                           ZURICH UNIV HOSP        1        0.007\n",
       "6315                         ZUYDERLAND MED CTR        1        0.007\n",
       "6316                                 ZYDUS HOSP        1        0.007\n",
       "\n",
       "[6317 rows x 3 columns]"
      ]
     },
     "execution_count": 6,
     "metadata": {},
     "output_type": "execute_result"
    }
   ],
   "source": [
    "instit = pd.read_excel('Estadísticas_artículos_científicos.xlsx', sheet_name='Institutions')\n",
    "instit"
   ]
  },
  {
   "cell_type": "code",
   "execution_count": 7,
   "metadata": {},
   "outputs": [],
   "source": [
    "#Take the names of the institutions and put them on a list\n",
    "direcciones = instit['Institutions'].to_list()"
   ]
  },
  {
   "cell_type": "code",
   "execution_count": 10,
   "metadata": {},
   "outputs": [
    {
     "data": {
      "text/plain": [
       "'UNIVERSITY OF LONDON'"
      ]
     },
     "execution_count": 10,
     "metadata": {},
     "output_type": "execute_result"
    }
   ],
   "source": [
    "direcciones[0]"
   ]
  },
  {
   "cell_type": "code",
   "execution_count": 13,
   "metadata": {},
   "outputs": [
    {
     "name": "stdout",
     "output_type": "stream",
     "text": [
      "Latitud = 51.5229593, Longitud = -0.1291229\n"
     ]
    }
   ],
   "source": [
    "#We tested first with a single direction\n",
    "locator = Nominatim (user_agent = \"yourmail\") \n",
    "location = locator.geocode(direcciones[0])\n",
    "print(\"Latitud = {}, Longitud = {}\".format(location.latitude, location.longitude))"
   ]
  },
  {
   "cell_type": "code",
   "execution_count": 23,
   "metadata": {},
   "outputs": [
    {
     "data": {
      "text/plain": [
       "[(51.5229593, -0.1291229),\n",
       " (42.36790855, -71.12678237443698),\n",
       " (32.8745719, -117.23169004482253),\n",
       " (30.51547525, 114.40786094837449),\n",
       " (42.33597, -71.1011537201035),\n",
       " (51.5244443, -0.13351161008505222),\n",
       " (30.5398018, 114.35991954187581),\n",
       " (nan, nan),\n",
       " (43.663461999999996, -79.39775965337452),\n",
       " (48.11920765, -1.696073977992143)]"
      ]
     },
     "execution_count": 23,
     "metadata": {},
     "output_type": "execute_result"
    }
   ],
   "source": [
    "#We create a new list where the locations will be saved\n",
    "localizaciones = []\n",
    " \n",
    "#Each geolocation service such as Google Maps, Bing Maps, Yahoo, MapQuest or Nominatim has its own class in geopy.geocoders to use the API service.\n",
    "#Create an object called a geolocation from the Nominatim class.\n",
    "locator = Nominatim(user_agent = \"yourEmail\")#For a massive consultation you can put an email\n",
    "\n",
    "#For each address stored in the 'addresses' list, we ask nominatim's geocoding services to return its coordinate to us and save it in the variable 'coordinates'. We add latitude and lo9ngitude to the 'locations' list.\n",
    "for val in direcciones[0:10]:\n",
    "    try:\n",
    "        location = locator.geocode([val], timeout=15)\n",
    "        localizaciones.append((location.latitude, location.longitude))\n",
    "    except:\n",
    "        localizaciones.append((np.NaN, np.NaN))\n",
    "        continue\n",
    "localizaciones"
   ]
  },
  {
   "cell_type": "code",
   "execution_count": 24,
   "metadata": {},
   "outputs": [
    {
     "data": {
      "text/plain": [
       "'CHINESE ACADEMY OF MEDICAL SCIENCES PEKING UNION MEDICAL COLLEGE'"
      ]
     },
     "execution_count": 24,
     "metadata": {},
     "output_type": "execute_result"
    }
   ],
   "source": [
    "instit['Institutions'][7]#This one is failing, which we will have to look for with another procedure"
   ]
  },
  {
   "cell_type": "code",
   "execution_count": 27,
   "metadata": {},
   "outputs": [],
   "source": [
    "#Create a function that automates it to pass it through lambda to the df later\n",
    "def geosearch(val):\n",
    "    try:\n",
    "        location = locator.geocode([val], timeout=15)\n",
    "        lat = location.latitude\n",
    "        long = location.longitude\n",
    "    except:\n",
    "        lat = np.NaN\n",
    "        long = np.NaN\n",
    "    return lat, long   "
   ]
  },
  {
   "cell_type": "code",
   "execution_count": 17,
   "metadata": {},
   "outputs": [
    {
     "data": {
      "text/plain": [
       "(51.5229593, -0.1291229)"
      ]
     },
     "execution_count": 17,
     "metadata": {},
     "output_type": "execute_result"
    }
   ],
   "source": [
    "geosearch(direcciones[0])"
   ]
  },
  {
   "cell_type": "code",
   "execution_count": 28,
   "metadata": {},
   "outputs": [
    {
     "data": {
      "text/plain": [
       "(nan, nan)"
      ]
     },
     "execution_count": 28,
     "metadata": {},
     "output_type": "execute_result"
    }
   ],
   "source": [
    "geosearch(direcciones[7])"
   ]
  },
  {
   "cell_type": "code",
   "execution_count": 29,
   "metadata": {},
   "outputs": [],
   "source": [
    "instit['coord'] = instit['Institutions'].apply(lambda x: geosearch(x))"
   ]
  },
  {
   "cell_type": "code",
   "execution_count": 43,
   "metadata": {},
   "outputs": [
    {
     "data": {
      "text/plain": [
       "3434"
      ]
     },
     "execution_count": 43,
     "metadata": {},
     "output_type": "execute_result"
    }
   ],
   "source": [
    "len(instit[instit.coord == (np.nan, np.nan)])#Half or so, we haven't gotten coordinates"
   ]
  },
  {
   "cell_type": "code",
   "execution_count": 44,
   "metadata": {},
   "outputs": [],
   "source": [
    "instit.to_csv('Instituciones_localizacion.csv')"
   ]
  },
  {
   "cell_type": "code",
   "execution_count": 121,
   "metadata": {},
   "outputs": [],
   "source": [
    "instit = pd.read_csv('Instituciones_localizacion.csv', index_col=0)"
   ]
  },
  {
   "cell_type": "code",
   "execution_count": 100,
   "metadata": {},
   "outputs": [
    {
     "data": {
      "text/plain": [
       "'51.5229593'"
      ]
     },
     "execution_count": 100,
     "metadata": {},
     "output_type": "execute_result"
    }
   ],
   "source": [
    "instit['coord'].str.split(',')[0][0].replace('(', '')"
   ]
  },
  {
   "cell_type": "code",
   "execution_count": 89,
   "metadata": {},
   "outputs": [
    {
     "data": {
      "text/plain": [
       "'51.5229593'"
      ]
     },
     "execution_count": 89,
     "metadata": {},
     "output_type": "execute_result"
    }
   ],
   "source": [
    "#We tested the way to separate the two values into two columns\n",
    "instit['coord'].str.split(',')[0][0].replace('(', '')"
   ]
  },
  {
   "cell_type": "code",
   "execution_count": 118,
   "metadata": {},
   "outputs": [
    {
     "name": "stdout",
     "output_type": "stream",
     "text": [
      "<class 'pandas.core.frame.DataFrame'>\n",
      "Int64Index: 6317 entries, 0 to 6316\n",
      "Data columns (total 5 columns):\n",
      " #   Column        Non-Null Count  Dtype  \n",
      "---  ------        --------------  -----  \n",
      " 0   Institutions  6317 non-null   object \n",
      " 1   records       6317 non-null   int64  \n",
      " 2   %_of_14.717   6317 non-null   float64\n",
      " 3   coord         6317 non-null   object \n",
      " 4   Latitud       6317 non-null   object \n",
      "dtypes: float64(1), int64(1), object(3)\n",
      "memory usage: 616.1+ KB\n"
     ]
    }
   ],
   "source": [
    "instit.info()"
   ]
  },
  {
   "cell_type": "code",
   "execution_count": 122,
   "metadata": {},
   "outputs": [],
   "source": [
    "#Convert to string the value of the coordinate field to extract the values to two columns\n",
    "instit['coord'] = instit['coord'].apply(lambda x: str(x)).replace('b(','').replace(')','')"
   ]
  },
  {
   "cell_type": "code",
   "execution_count": 134,
   "metadata": {},
   "outputs": [],
   "source": [
    "#We extract the coordinates to two columns\n",
    "instit['Latitud'] = instit['coord'].apply(lambda x: str(x).split(',')[0].replace('(','')).astype(float)\n",
    "instit['Longitud'] = instit['coord'].apply(lambda x: str(x).split(',')[1].replace(')','')).astype(float)"
   ]
  },
  {
   "cell_type": "code",
   "execution_count": 138,
   "metadata": {},
   "outputs": [
    {
     "data": {
      "text/html": [
       "<div>\n",
       "<style scoped>\n",
       "    .dataframe tbody tr th:only-of-type {\n",
       "        vertical-align: middle;\n",
       "    }\n",
       "\n",
       "    .dataframe tbody tr th {\n",
       "        vertical-align: top;\n",
       "    }\n",
       "\n",
       "    .dataframe thead th {\n",
       "        text-align: right;\n",
       "    }\n",
       "</style>\n",
       "<table border=\"1\" class=\"dataframe\">\n",
       "  <thead>\n",
       "    <tr style=\"text-align: right;\">\n",
       "      <th></th>\n",
       "      <th>Institutions</th>\n",
       "      <th>records</th>\n",
       "      <th>%_of_14.717</th>\n",
       "      <th>Latitud</th>\n",
       "      <th>Longitud</th>\n",
       "    </tr>\n",
       "  </thead>\n",
       "  <tbody>\n",
       "    <tr>\n",
       "      <th>0</th>\n",
       "      <td>UNIVERSITY OF LONDON</td>\n",
       "      <td>160</td>\n",
       "      <td>1.087</td>\n",
       "      <td>51.522959</td>\n",
       "      <td>-0.129123</td>\n",
       "    </tr>\n",
       "    <tr>\n",
       "      <th>1</th>\n",
       "      <td>HARVARD UNIVERSITY</td>\n",
       "      <td>119</td>\n",
       "      <td>0.809</td>\n",
       "      <td>42.367909</td>\n",
       "      <td>-71.126782</td>\n",
       "    </tr>\n",
       "    <tr>\n",
       "      <th>2</th>\n",
       "      <td>UNIVERSITY OF CALIFORNIA SYSTEM</td>\n",
       "      <td>102</td>\n",
       "      <td>0.693</td>\n",
       "      <td>32.874572</td>\n",
       "      <td>-117.231690</td>\n",
       "    </tr>\n",
       "    <tr>\n",
       "      <th>3</th>\n",
       "      <td>HUAZHONG UNIVERSITY OF SCIENCE TECHNOLOGY</td>\n",
       "      <td>90</td>\n",
       "      <td>0.612</td>\n",
       "      <td>30.515475</td>\n",
       "      <td>114.407861</td>\n",
       "    </tr>\n",
       "    <tr>\n",
       "      <th>4</th>\n",
       "      <td>HARVARD MEDICAL SCHOOL</td>\n",
       "      <td>66</td>\n",
       "      <td>0.448</td>\n",
       "      <td>42.335970</td>\n",
       "      <td>-71.101154</td>\n",
       "    </tr>\n",
       "  </tbody>\n",
       "</table>\n",
       "</div>"
      ],
      "text/plain": [
       "                                Institutions  records  %_of_14.717    Latitud  \\\n",
       "0                       UNIVERSITY OF LONDON      160        1.087  51.522959   \n",
       "1                         HARVARD UNIVERSITY      119        0.809  42.367909   \n",
       "2            UNIVERSITY OF CALIFORNIA SYSTEM      102        0.693  32.874572   \n",
       "3  HUAZHONG UNIVERSITY OF SCIENCE TECHNOLOGY       90        0.612  30.515475   \n",
       "4                     HARVARD MEDICAL SCHOOL       66        0.448  42.335970   \n",
       "\n",
       "     Longitud  \n",
       "0   -0.129123  \n",
       "1  -71.126782  \n",
       "2 -117.231690  \n",
       "3  114.407861  \n",
       "4  -71.101154  "
      ]
     },
     "execution_count": 138,
     "metadata": {},
     "output_type": "execute_result"
    }
   ],
   "source": [
    "instit = instit.drop('coord', 1)\n",
    "instit.head()"
   ]
  },
  {
   "cell_type": "code",
   "execution_count": 139,
   "metadata": {},
   "outputs": [],
   "source": [
    "#Save the CSV\n",
    "instit.to_csv('Instituciones_localizacion_clean.csv')"
   ]
  },
  {
   "cell_type": "code",
   "execution_count": 146,
   "metadata": {},
   "outputs": [],
   "source": [
    "#We extract the coordinates with Nan because he didn't find them with the above method\n",
    "insti_nan = instit[instit.Latitud.isnull()]"
   ]
  },
  {
   "cell_type": "code",
   "execution_count": 166,
   "metadata": {},
   "outputs": [
    {
     "data": {
      "text/plain": [
       "7       CHINESE ACADEMY OF MEDICAL SCIENCES PEKING UNI...\n",
       "14                ASSISTANCE PUBLIQUE HOPITAUX PARIS APHP\n",
       "25                              HUAZHONG UNIV SCI TECHNOL\n",
       "26            SHAHID BEHESHTI UNIVERSITY MEDICAL SCIENCES\n",
       "28      PENNSYLVANIA COMMONWEALTH SYSTEM OF HIGHER EDU...\n",
       "                              ...                        \n",
       "6310                   ZOO PROPHYLACT INST SOUTHERN ITALY\n",
       "6311                           ZRN RHEINLAND ZRN MVZ GMBH\n",
       "6312                ZUCKER SCH MED HOFSTRA NORTHWELL HLTH\n",
       "6313                       ZUNYI MED COLL AFFILIATED HOSP\n",
       "6315                                   ZUYDERLAND MED CTR\n",
       "Name: Institutions, Length: 3434, dtype: object"
      ]
     },
     "execution_count": 166,
     "metadata": {},
     "output_type": "execute_result"
    }
   ],
   "source": [
    "insti_nan.Institutions"
   ]
  },
  {
   "cell_type": "code",
   "execution_count": 154,
   "metadata": {},
   "outputs": [
    {
     "data": {
      "text/plain": [
       "54.36124742757637"
      ]
     },
     "execution_count": 154,
     "metadata": {},
     "output_type": "execute_result"
    }
   ],
   "source": [
    "#Percentage of results not found\n",
    "len(insti_nan)/len(instit) *100 \n",
    "#insti_nan"
   ]
  },
  {
   "cell_type": "code",
   "execution_count": 158,
   "metadata": {},
   "outputs": [],
   "source": [
    "#We pobamos with different geocoders e.g. Yandex (Although it requires APIKEY)\n",
    "#and gives us a free limit of 25,000 queries\n",
    "#https://geopy.readthedocs.io/en/stable/#yandex\n",
    "from geopy.geocoders import Yandex"
   ]
  },
  {
   "cell_type": "code",
   "execution_count": 176,
   "metadata": {},
   "outputs": [
    {
     "name": "stdout",
     "output_type": "stream",
     "text": [
      "Latitud = 51.5229593, Longitud = -0.1291229\n"
     ]
    }
   ],
   "source": [
    "#We tested first with the same address as With Nominated() to check the veracity of the geocoder\n",
    "apikey = 'ded711c3-7320-4cfa-9275-ee4be8f2c707'\n",
    "#To get the free apikey you can go to https://developer.tech.yandex.ru/\n",
    "locator2 = Yandex (api_key=apikey, user_agent=\"jlfdez@yandex.ru\") \n",
    "location2 = locator.geocode(direcciones[0])\n",
    "print(\"Latitud = {}, Longitud = {}\".format(location2.latitude, location2.longitude))\n",
    "#It responds with the same coordinates so it seems reliable"
   ]
  },
  {
   "cell_type": "code",
   "execution_count": 178,
   "metadata": {},
   "outputs": [],
   "source": [
    "#We re-created a function to go through the df\n",
    "#We create a function that automates it to pass it through lambda to the df later\n",
    "def geosearch_yandex(val, apikey):\n",
    "    locator = Yandex (api_key=apikey, user_agent=\"jlfdez@yandex.ru\") \n",
    "    try:\n",
    "        location = locator.geocode([val], timeout=10)\n",
    "        lat = location.latitude\n",
    "        long = location.longitude\n",
    "    except:\n",
    "        lat = np.NaN\n",
    "        long = np.NaN\n",
    "    return lat, long"
   ]
  },
  {
   "cell_type": "code",
   "execution_count": 179,
   "metadata": {},
   "outputs": [
    {
     "data": {
      "text/plain": [
       "(51.458902, 0.211913)"
      ]
     },
     "execution_count": 179,
     "metadata": {},
     "output_type": "execute_result"
    }
   ],
   "source": [
    "geosearch_yandex(direcciones[0], apikey)"
   ]
  },
  {
   "cell_type": "code",
   "execution_count": 181,
   "metadata": {},
   "outputs": [
    {
     "data": {
      "text/plain": [
       "(nan, nan)"
      ]
     },
     "execution_count": 181,
     "metadata": {},
     "output_type": "execute_result"
    }
   ],
   "source": [
    "geosearch_yandex(insti_nan.Institutions[7], apikey)"
   ]
  },
  {
   "cell_type": "code",
   "execution_count": 182,
   "metadata": {},
   "outputs": [
    {
     "name": "stderr",
     "output_type": "stream",
     "text": [
      "<ipython-input-182-73adfe54247e>:1: SettingWithCopyWarning: \n",
      "A value is trying to be set on a copy of a slice from a DataFrame.\n",
      "Try using .loc[row_indexer,col_indexer] = value instead\n",
      "\n",
      "See the caveats in the documentation: https://pandas.pydata.org/pandas-docs/stable/user_guide/indexing.html#returning-a-view-versus-a-copy\n",
      "  insti_nan['coord'] = insti_nan['Institutions'].apply(lambda x: geosearch_yandex(x, apikey))\n"
     ]
    }
   ],
   "source": [
    "insti_nan['coord'] = insti_nan['Institutions'].apply(lambda x: geosearch_yandex(x, apikey))"
   ]
  },
  {
   "cell_type": "code",
   "execution_count": 189,
   "metadata": {},
   "outputs": [
    {
     "data": {
      "text/plain": [
       "1224"
      ]
     },
     "execution_count": 189,
     "metadata": {},
     "output_type": "execute_result"
    }
   ],
   "source": [
    "len(insti_nan[insti_nan['coord'] != (np.nan, np.nan)])\n",
    "#We have achieved another 1224 institutions and their coordinates ()"
   ]
  },
  {
   "cell_type": "code",
   "execution_count": 191,
   "metadata": {},
   "outputs": [
    {
     "data": {
      "text/plain": [
       "3434"
      ]
     },
     "execution_count": 191,
     "metadata": {},
     "output_type": "execute_result"
    }
   ],
   "source": [
    "len(instit) #6,317 institutions in total (6,317 - 2,210 x 4,107 institutions with coordinates)\n",
    "len(insti_nan)#3.434 - 1.224 = 2.210"
   ]
  }
 ],
 "metadata": {
  "kernelspec": {
   "display_name": "Python 3 (geop)",
   "language": "python",
   "name": "geop"
  },
  "language_info": {
   "codemirror_mode": {
    "name": "ipython",
    "version": 3
   },
   "file_extension": ".py",
   "mimetype": "text/x-python",
   "name": "python",
   "nbconvert_exporter": "python",
   "pygments_lexer": "ipython3",
   "version": "3.8.2"
  }
 },
 "nbformat": 4,
 "nbformat_minor": 4
}
